{
 "cells": [
  {
   "cell_type": "markdown",
   "metadata": {},
   "source": [
    "# Creating local estimates of boundary of basin of attraction"
   ]
  },
  {
   "cell_type": "markdown",
   "metadata": {},
   "source": [
    "## Model a dynamical system"
   ]
  },
  {
   "cell_type": "markdown",
   "metadata": {},
   "source": [
    "We model the Lorenz system, which consists of the following three ODEs: \n",
    "\n",
    "$$x'=\\sigma(y-x) \\\\\n",
    "y'=rx-y-xz \\\\\n",
    "z'=xy-\\beta z$$"
   ]
  },
  {
   "cell_type": "code",
   "execution_count": 13,
   "metadata": {},
   "outputs": [],
   "source": [
    "import numpy as np\n",
    "import math\n",
    "from scipy.integrate import solve_ivp"
   ]
  },
  {
   "cell_type": "markdown",
   "metadata": {},
   "source": [
    "We set some parameters and do a test simulation to observe the convergence process to a stable equilibrium. The simulation code is referenced from https://github.com/scipython/scipython-maths/blob/master/lorenz/lorenz.py"
   ]
  },
  {
   "cell_type": "code",
   "execution_count": 14,
   "metadata": {},
   "outputs": [],
   "source": [
    "# Lorenz parameters and initial conditions.\n",
    "sigma, beta, r = 10, 2.667, 10\n",
    "x0, y0, z0 = 0, 1, 1.05\n",
    "\n",
    "# Maximum time point and total number of time points.\n",
    "tmax, n = 5000, 100000"
   ]
  },
  {
   "cell_type": "code",
   "execution_count": 15,
   "metadata": {},
   "outputs": [],
   "source": [
    "def lorenz(t, X, sigma, beta, r):\n",
    "    \"\"\"The Lorenz equations.\"\"\"\n",
    "    x, y, z = X\n",
    "    xp = sigma*(y - x)\n",
    "    yp = r*x - y - x*z\n",
    "    zp = -beta*z + x*y\n",
    "    return xp, yp, zp"
   ]
  },
  {
   "cell_type": "code",
   "execution_count": 16,
   "metadata": {},
   "outputs": [],
   "source": [
    "# Integrate the Lorenz equations.\n",
    "soln = solve_ivp(lorenz, (0, tmax), (x0, y0, z0), args=(sigma, beta, r),dense_output=True)\n",
    "# Interpolate solution onto the time grid, t.\n",
    "t = np.linspace(0, tmax, n)\n",
    "x, y, z = soln.sol(t)"
   ]
  },
  {
   "cell_type": "markdown",
   "metadata": {},
   "source": [
    "After numerically solving the problem, we plot the trajectory."
   ]
  },
  {
   "cell_type": "code",
   "execution_count": 17,
   "metadata": {},
   "outputs": [],
   "source": [
    "import matplotlib.pyplot as plt\n",
    "from mpl_toolkits.mplot3d import Axes3D"
   ]
  },
  {
   "cell_type": "code",
   "execution_count": 18,
   "metadata": {},
   "outputs": [],
   "source": [
    "WIDTH, HEIGHT, DPI = 1000, 750, 100"
   ]
  },
  {
   "cell_type": "code",
   "execution_count": 19,
   "metadata": {},
   "outputs": [
    {
     "data": {
      "image/png": "[encoded data removed]",
      "text/plain": [
       "<Figure size 1000x750 with 1 Axes>"
      ]
     },
     "metadata": {},
     "output_type": "display_data"
    }
   ],
   "source": [
    "# Plot the Lorenz attractor using a Matplotlib 3D projection.\n",
    "fig = plt.figure(facecolor='k', figsize=(WIDTH/DPI, HEIGHT/DPI))\n",
    "ax = fig.add_subplot(111, projection='3d')\n",
    "ax.set_facecolor('k')\n",
    "fig.subplots_adjust(left=0, right=1, bottom=0, top=1)\n",
    "\n",
    "# Make the line multi-coloured by plotting it in segments of length s which\n",
    "# change in colour across the whole time series.\n",
    "s = 10\n",
    "cmap = plt.cm.winter\n",
    "for i in range(0,n-s,s):\n",
    "    ax.plot(x[i:i+s+1], y[i:i+s+1], z[i:i+s+1], color=cmap(i/n), alpha=0.4)\n",
    "\n",
    "# Remove all the axis clutter, leaving just the curve.\n",
    "ax.set_axis_off()\n",
    "\n",
    "plt.savefig('lorenz_win.png', dpi=DPI)\n",
    "plt.show()"
   ]
  },
  {
   "cell_type": "markdown",
   "metadata": {},
   "source": [
    "By the setting of parameters, the system has two stable equilibriums. \n",
    "\n",
    "By checking the trace of the trajectory, we could observe that the flow converges to one of them."
   ]
  },
  {
   "cell_type": "markdown",
   "metadata": {},
   "source": [
    "## Simulation to collect data"
   ]
  },
  {
   "cell_type": "markdown",
   "metadata": {},
   "source": [
    "We now form a dataset for training and testing with the following way: We randomly select initial conditions $(x_{0},y_{0},z_{0}) \\in (-50,50)\\times (-50,50) \\times (-50,50)$ and compute the trajectories. We fix a stable equilibrium of interest, and label the points as 1 or -1 depending on whether the trajectory converges to that equilibrium. With the above set of parameters, we have that $(\\sqrt{24}, \\sqrt{24}, 9)$ is a stable equilibrium. We therefore obtain a dataset by simulating the trajectory of 500 sample points. If the trajectory is attracted, we label it as +1, otherwise -1."
   ]
  },
  {
   "cell_type": "code",
   "execution_count": 20,
   "metadata": {},
   "outputs": [],
   "source": [
    "# Check if the trajectory is attracted to the concerned Lorenz attractor\n",
    "def is_attracted(x, y, z):\n",
    "    return (abs(x-math.sqrt(24))<0.01) and (abs(y-math.sqrt(24))<0.01) and (abs(z-9)<0.01)"
   ]
  },
  {
   "cell_type": "code",
   "execution_count": 21,
   "metadata": {},
   "outputs": [],
   "source": [
    "## Implement the simulation process and decide if the trajectory is attracted by the Lorenz attractor\n",
    "def simulation(x0 ,y0 ,z0):\n",
    "    tmax, n = 1500, 100000\n",
    "    soln = solve_ivp(lorenz, (0, tmax), (x0, y0, z0), args=(sigma, beta, r),dense_output=True)\n",
    "    t = np.linspace(0, tmax, n)\n",
    "    x, y, z = soln.sol(t)\n",
    "    return is_attracted(x[n-1], y[n-1], z[n-1])"
   ]
  },
  {
   "cell_type": "code",
   "execution_count": 22,
   "metadata": {},
   "outputs": [],
   "source": [
    "def generate_random_points():\n",
    "    x0 = np.random.uniform(-50, 50)\n",
    "    y0 = np.random.uniform(-50, 50)\n",
    "    z0 = np.random.uniform(-50, 50)\n",
    "    return x0, y0, z0"
   ]
  },
  {
   "cell_type": "code",
   "execution_count": 23,
   "metadata": {},
   "outputs": [
    {
     "name": "stdout",
     "output_type": "stream",
     "text": [
      "Progress: 0/2000\n",
      "Progress: 10/2000\n",
      "Progress: 20/2000\n",
      "Progress: 30/2000\n",
      "Progress: 40/2000\n",
      "Progress: 50/2000\n",
      "Progress: 60/2000\n",
      "Progress: 70/2000\n",
      "Progress: 80/2000\n",
      "Progress: 90/2000\n",
      "Progress: 100/2000\n",
      "Progress: 110/2000\n",
      "Progress: 120/2000\n",
      "Progress: 130/2000\n",
      "Progress: 140/2000\n",
      "Progress: 150/2000\n",
      "Progress: 160/2000\n",
      "Progress: 170/2000\n",
      "Progress: 180/2000\n",
      "Progress: 190/2000\n",
      "Progress: 200/2000\n",
      "Progress: 210/2000\n",
      "Progress: 220/2000\n",
      "Progress: 230/2000\n",
      "Progress: 240/2000\n",
      "Progress: 250/2000\n",
      "Progress: 260/2000\n",
      "Progress: 270/2000\n",
      "Progress: 280/2000\n",
      "Progress: 290/2000\n",
      "Progress: 300/2000\n",
      "Progress: 310/2000\n",
      "Progress: 320/2000\n",
      "Progress: 330/2000\n",
      "Progress: 340/2000\n",
      "Progress: 350/2000\n",
      "Progress: 360/2000\n",
      "Progress: 370/2000\n",
      "Progress: 380/2000\n",
      "Progress: 390/2000\n",
      "Progress: 400/2000\n",
      "Progress: 410/2000\n",
      "Progress: 420/2000\n",
      "Progress: 430/2000\n",
      "Progress: 440/2000\n",
      "Progress: 450/2000\n",
      "Progress: 460/2000\n",
      "Progress: 470/2000\n",
      "Progress: 480/2000\n",
      "Progress: 490/2000\n",
      "Progress: 500/2000\n",
      "Progress: 510/2000\n",
      "Progress: 520/2000\n",
      "Progress: 530/2000\n",
      "Progress: 540/2000\n",
      "Progress: 550/2000\n",
      "Progress: 560/2000\n",
      "Progress: 570/2000\n",
      "Progress: 580/2000\n",
      "Progress: 590/2000\n",
      "Progress: 600/2000\n",
      "Progress: 610/2000\n",
      "Progress: 620/2000\n",
      "Progress: 630/2000\n",
      "Progress: 640/2000\n",
      "Progress: 650/2000\n",
      "Progress: 660/2000\n",
      "Progress: 670/2000\n",
      "Progress: 680/2000\n",
      "Progress: 690/2000\n",
      "Progress: 700/2000\n",
      "Progress: 710/2000\n",
      "Progress: 720/2000\n",
      "Progress: 730/2000\n",
      "Progress: 740/2000\n",
      "Progress: 750/2000\n",
      "Progress: 760/2000\n",
      "Progress: 770/2000\n",
      "Progress: 780/2000\n",
      "Progress: 790/2000\n",
      "Progress: 800/2000\n",
      "Progress: 810/2000\n",
      "Progress: 820/2000\n",
      "Progress: 830/2000\n",
      "Progress: 840/2000\n",
      "Progress: 850/2000\n",
      "Progress: 860/2000\n",
      "Progress: 870/2000\n",
      "Progress: 880/2000\n",
      "Progress: 890/2000\n",
      "Progress: 900/2000\n",
      "Progress: 910/2000\n",
      "Progress: 920/2000\n",
      "Progress: 930/2000\n",
      "Progress: 940/2000\n",
      "Progress: 950/2000\n",
      "Progress: 960/2000\n",
      "Progress: 970/2000\n",
      "Progress: 980/2000\n",
      "Progress: 990/2000\n",
      "Progress: 1000/2000\n",
      "Progress: 1010/2000\n",
      "Progress: 1020/2000\n",
      "Progress: 1030/2000\n",
      "Progress: 1040/2000\n",
      "Progress: 1050/2000\n",
      "Progress: 1060/2000\n",
      "Progress: 1070/2000\n",
      "Progress: 1080/2000\n",
      "Progress: 1090/2000\n",
      "Progress: 1100/2000\n",
      "Progress: 1110/2000\n",
      "Progress: 1120/2000\n",
      "Progress: 1130/2000\n",
      "Progress: 1140/2000\n",
      "Progress: 1150/2000\n",
      "Progress: 1160/2000\n",
      "Progress: 1170/2000\n",
      "Progress: 1180/2000\n",
      "Progress: 1190/2000\n",
      "Progress: 1200/2000\n",
      "Progress: 1210/2000\n",
      "Progress: 1220/2000\n",
      "Progress: 1230/2000\n",
      "Progress: 1240/2000\n",
      "Progress: 1250/2000\n",
      "Progress: 1260/2000\n",
      "Progress: 1270/2000\n",
      "Progress: 1280/2000\n",
      "Progress: 1290/2000\n",
      "Progress: 1300/2000\n",
      "Progress: 1310/2000\n",
      "Progress: 1320/2000\n",
      "Progress: 1330/2000\n",
      "Progress: 1340/2000\n",
      "Progress: 1350/2000\n",
      "Progress: 1360/2000\n",
      "Progress: 1370/2000\n",
      "Progress: 1380/2000\n",
      "Progress: 1390/2000\n",
      "Progress: 1400/2000\n",
      "Progress: 1410/2000\n",
      "Progress: 1420/2000\n",
      "Progress: 1430/2000\n",
      "Progress: 1440/2000\n",
      "Progress: 1450/2000\n",
      "Progress: 1460/2000\n",
      "Progress: 1470/2000\n",
      "Progress: 1480/2000\n",
      "Progress: 1490/2000\n",
      "Progress: 1500/2000\n",
      "Progress: 1510/2000\n",
      "Progress: 1520/2000\n",
      "Progress: 1530/2000\n",
      "Progress: 1540/2000\n",
      "Progress: 1550/2000\n",
      "Progress: 1560/2000\n",
      "Progress: 1570/2000\n",
      "Progress: 1580/2000\n",
      "Progress: 1590/2000\n",
      "Progress: 1600/2000\n",
      "Progress: 1610/2000\n",
      "Progress: 1620/2000\n",
      "Progress: 1630/2000\n",
      "Progress: 1640/2000\n",
      "Progress: 1650/2000\n",
      "Progress: 1660/2000\n",
      "Progress: 1670/2000\n",
      "Progress: 1680/2000\n",
      "Progress: 1690/2000\n",
      "Progress: 1700/2000\n",
      "Progress: 1710/2000\n",
      "Progress: 1720/2000\n",
      "Progress: 1730/2000\n",
      "Progress: 1740/2000\n",
      "Progress: 1750/2000\n",
      "Progress: 1760/2000\n",
      "Progress: 1770/2000\n",
      "Progress: 1780/2000\n",
      "Progress: 1790/2000\n",
      "Progress: 1800/2000\n",
      "Progress: 1810/2000\n",
      "Progress: 1820/2000\n",
      "Progress: 1830/2000\n",
      "Progress: 1840/2000\n",
      "Progress: 1850/2000\n",
      "Progress: 1860/2000\n",
      "Progress: 1870/2000\n",
      "Progress: 1880/2000\n",
      "Progress: 1890/2000\n",
      "Progress: 1900/2000\n",
      "Progress: 1910/2000\n",
      "Progress: 1920/2000\n",
      "Progress: 1930/2000\n",
      "Progress: 1940/2000\n",
      "Progress: 1950/2000\n",
      "Progress: 1960/2000\n",
      "Progress: 1970/2000\n",
      "Progress: 1980/2000\n",
      "Progress: 1990/2000\n"
     ]
    }
   ],
   "source": [
    "import pandas as pd\n",
    "\n",
    "# Create the dataset\n",
    "df = pd.DataFrame(columns=['x0', 'y0', 'z0', 'attracted'])\n",
    "for i in range(2000):\n",
    "    x0, y0, z0 = generate_random_points()\n",
    "    attracted_result = simulation(x0, y0, z0)\n",
    "    attracted_result = 1 if attracted_result else -1  # map True to 1 and False to -1\n",
    "    df.loc[i] = [x0, y0, z0, attracted_result]\n",
    "    if i % 10 == 0:  # print progress every 10 iterations\n",
    "        print(f\"Progress: {i}/2000\")\n",
    "\n",
    "# Save the DataFrame to a CSV file\n",
    "df.to_csv('dataset.csv', index=False)"
   ]
  },
  {
   "cell_type": "markdown",
   "metadata": {},
   "source": [
    "## Reproduction of Shena et.al approach using deep neural network"
   ]
  },
  {
   "cell_type": "markdown",
   "metadata": {},
   "source": [
    "With dataset generated, we will train a neural network to perform logistic regression by minimizing cross-entropy loss."
   ]
  }
 ],
 "metadata": {
  "kernelspec": {
   "display_name": "estimate-boundary",
   "language": "python",
   "name": "python3"
  },
  "language_info": {
   "codemirror_mode": {
    "name": "ipython",
    "version": 3
   },
   "file_extension": ".py",
   "mimetype": "text/x-python",
   "name": "python",
   "nbconvert_exporter": "python",
   "pygments_lexer": "ipython3",
   "version": "3.12.0"
  }
 },
 "nbformat": 4,
 "nbformat_minor": 2
}

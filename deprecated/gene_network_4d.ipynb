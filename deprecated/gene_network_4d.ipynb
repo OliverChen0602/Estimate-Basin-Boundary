{
 "cells": [
  {
   "cell_type": "code",
   "execution_count": 1,
   "metadata": {},
   "outputs": [],
   "source": [
    "import numpy as np\n",
    "import math\n",
    "import pandas as pd\n",
    "\n",
    "import pandas as pd\n",
    "import torch\n",
    "import torch.nn as nn\n",
    "from torch.utils.data import DataLoader, Dataset\n",
    "import torch.optim as optim\n",
    "\n",
    "from scipy.integrate import solve_ivp\n",
    "\n",
    "from torchmetrics import Accuracy\n",
    "import matplotlib.pyplot as plt\n",
    "from mpl_toolkits.mplot3d import Axes3D\n",
    "import numpy as np\n",
    "\n",
    "from lion_pytorch import Lion\n",
    "\n",
    "from tqdm import tqdm\n",
    "\n",
    "from copy import deepcopy\n",
    "\n",
    "import warnings\n",
    "warnings.filterwarnings(\"ignore\")"
   ]
  },
  {
   "cell_type": "markdown",
   "metadata": {},
   "source": [
    "We consider a four-dimensional synthetic multistable gene regulatory network:\n",
    "\\begin{align*}\n",
    "\\frac{dx_{i}}{dt}=\\sum_{j=1}^{4}\\frac{0.35\\times x_{j}^{4}}{0.2^{4}+x_{j}^{4}}+\\sum_{j=1}^{4}\\frac{0.3\\times 0.2^{4}}{0.2^{4}+x_{j}^{4}}-x_{i}\n",
    "\\end{align*}\n",
    "the system has 7 stable states: $(0.003, 0.647, 0.003, 0.647)$,$(0.020, 0.647, 0.282, 0.387)$, $(0.280, 0.387, 0.020, 0.647)$, $(0.345, 0.345, 0.345, 0.345)$, $(0.387, 0.020, 0.647, 0.282)$, $(0.647, 0.282, 0.387, 0.020)$, $(0.647, 0.003, 0.647, 0.003)$."
   ]
  },
  {
   "cell_type": "code",
   "execution_count": 2,
   "metadata": {},
   "outputs": [],
   "source": [
    "def term_1(x):\n",
    "    return 0.35 * (x**4) / (0.2**4 + x**4)\n",
    "def term_2(x):\n",
    "    return 0.3 * (0.2**4) / (0.2**4 + x**4)\n",
    "def common_term(x, y, z, w):\n",
    "    return term_1(x) + term_1(y) + term_1(z) + term_1(w) + term_2(x) + term_2(y) + term_2(z) + term_2(w)\n",
    "def system(t, X):\n",
    "    x, y, z, w = X\n",
    "    xp = common_term(x, y, z, w) - x\n",
    "    yp = common_term(x, y, z, w) - y\n",
    "    zp = common_term(x, y, z, w) - z\n",
    "    wp = common_term(x, y, z, w) - w\n",
    "    return xp, yp, zp, wp\n",
    "    "
   ]
  },
  {
   "cell_type": "code",
   "execution_count": 4,
   "metadata": {},
   "outputs": [
    {
     "data": {
      "text/plain": [
       "(1.0347043824382496,\n",
       " 1.0347043824382496,\n",
       " 1.0347043824382496,\n",
       " 1.0347043824382496)"
      ]
     },
     "execution_count": 4,
     "metadata": {},
     "output_type": "execute_result"
    }
   ],
   "source": [
    "system(0, [0.345, 0.345, 0.345, 0.345])"
   ]
  }
 ],
 "metadata": {
  "kernelspec": {
   "display_name": "myenv",
   "language": "python",
   "name": "python3"
  },
  "language_info": {
   "codemirror_mode": {
    "name": "ipython",
    "version": 3
   },
   "file_extension": ".py",
   "mimetype": "text/x-python",
   "name": "python",
   "nbconvert_exporter": "python",
   "pygments_lexer": "ipython3",
   "version": "3.10.11"
  }
 },
 "nbformat": 4,
 "nbformat_minor": 2
}
